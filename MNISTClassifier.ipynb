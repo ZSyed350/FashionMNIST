{
 "cells": [
  {
   "cell_type": "code",
   "execution_count": null,
   "id": "0394337c-ca50-496c-8b4f-334031b5b6aa",
   "metadata": {},
   "outputs": [],
   "source": [
    "import torch\n",
    "from torchvision import datasets\n",
    "import numpy as np\n",
    "import pandas as pd\n",
    "import matplotlib.pyplot as plt"
   ]
  },
  {
   "cell_type": "code",
   "execution_count": null,
   "id": "3b03135a-a395-40f6-ab57-f9565c5596be",
   "metadata": {},
   "outputs": [],
   "source": [
    "torch.cuda.get_device_name(0)"
   ]
  },
  {
   "cell_type": "markdown",
   "id": "9b5f0524-3fab-4e58-97b4-3fd3b77f0058",
   "metadata": {},
   "source": [
    "# Load datasets for EDA\n",
    "Load the data sets without transforms since we are only interested in using them for Exploratory Data Analysis (EDA) at this point.\n",
    "\n",
    "Initialize an instance of the `torchvision.datasets.FashionMNIST` class.\n",
    "- `root` is the directory containing the data files (or zipped data files, which will need to be unzipped by the `download` keyword argument)\n",
    "- `train` if set to `True`, indicates training data, as opposed to test data\n",
    "- `download` if set to True, downloads (unzips) the data, if not already unzipped"
   ]
  },
  {
   "cell_type": "code",
   "execution_count": null,
   "id": "64bec7d5-b4e1-4d55-9dd6-de8e22a6ff00",
   "metadata": {},
   "outputs": [],
   "source": [
    "train_dataset = datasets.FashionMNIST(root=\"C:/Projects/fashion-mnist/data/fashion\", train=True, download=True)"
   ]
  },
  {
   "cell_type": "code",
   "execution_count": null,
   "id": "9dd6aea8-882b-42a0-a04e-bd588dc54567",
   "metadata": {},
   "outputs": [],
   "source": [
    "train_dataset"
   ]
  },
  {
   "cell_type": "markdown",
   "id": "21e34562-9797-45a7-b457-eb1e1a0ce39b",
   "metadata": {},
   "source": [
    "The dataset has 10 classes describing articles of clothing."
   ]
  },
  {
   "cell_type": "code",
   "execution_count": null,
   "id": "00df3486-17b9-486d-a348-1131e2f4ab2d",
   "metadata": {},
   "outputs": [],
   "source": [
    "train_dataset.classes"
   ]
  },
  {
   "cell_type": "markdown",
   "id": "d3ba6e3a-8cf4-4a11-a506-3d16d450fb90",
   "metadata": {},
   "source": [
    "Each datapoint is an image with a target, where the target is a number that describes the class the image falls into."
   ]
  },
  {
   "cell_type": "code",
   "execution_count": null,
   "id": "1d796d69-47ed-405e-be24-2856062d7726",
   "metadata": {},
   "outputs": [],
   "source": [
    "train_dataset.data[0], train_dataset.targets[0]\n",
    "# TODO: display image as image as opposed to array, and repeat for 3 more images in different classes"
   ]
  },
  {
   "cell_type": "code",
   "execution_count": null,
   "id": "f5f14baa-12c7-4e2f-8e18-e189f8025469",
   "metadata": {},
   "outputs": [],
   "source": [
    "train_dataset.targets.bincount()  # Check the distribution of targets"
   ]
  },
  {
   "cell_type": "code",
   "execution_count": null,
   "id": "8d00f21f-f576-4a28-907c-7eaa21a897c2",
   "metadata": {},
   "outputs": [],
   "source": [
    "import matplotlib.pyplot as plt\n",
    "\n",
    "# Plot some sample images with their labels\n",
    "fig, axes = plt.subplots(2, 5, figsize=(12, 5))\n",
    "for i, ax in enumerate(axes.flat):\n",
    "    image, label = train_dataset[i]\n",
    "    ax.imshow(image, cmap=\"gray\")\n",
    "    ax.set_title(f\"Label: {train_dataset.classes[label]}\")\n",
    "    ax.axis(\"off\")\n",
    "plt.tight_layout()\n",
    "plt.show()\n"
   ]
  },
  {
   "cell_type": "code",
   "execution_count": null,
   "id": "400eb8c6-32cc-43b2-95cd-3dcdb7d33f67",
   "metadata": {},
   "outputs": [],
   "source": []
  }
 ],
 "metadata": {
  "kernelspec": {
   "display_name": "Python 3 (ipykernel)",
   "language": "python",
   "name": "python3"
  },
  "language_info": {
   "codemirror_mode": {
    "name": "ipython",
    "version": 3
   },
   "file_extension": ".py",
   "mimetype": "text/x-python",
   "name": "python",
   "nbconvert_exporter": "python",
   "pygments_lexer": "ipython3",
   "version": "3.12.7"
  }
 },
 "nbformat": 4,
 "nbformat_minor": 5
}
